{
 "cells": [
  {
   "cell_type": "code",
   "execution_count": 105,
   "id": "5b75476f-9610-41ee-a796-bfd407dc0ffc",
   "metadata": {},
   "outputs": [],
   "source": [
    "import pandas as pd\n",
    "import numpy as np\n",
    "from matplotlib import pyplot as plt"
   ]
  },
  {
   "cell_type": "code",
   "execution_count": 106,
   "id": "159a6b9e-0304-4413-8010-304ba67d3328",
   "metadata": {},
   "outputs": [],
   "source": [
    "# Load test set\n",
    "test_df = pd.read_excel(\"test_x.xlsx\", index_col=False)\n",
    "\n",
    "# Save IDs\n",
    "ids = test_df[\"ID\"]\n",
    "\n",
    "# Get X\n",
    "X = test_df.drop(columns=[\"ID\"])"
   ]
  },
  {
   "cell_type": "code",
   "execution_count": 107,
   "id": "944eaf5c-8fc8-433c-8021-307195a16513",
   "metadata": {},
   "outputs": [],
   "source": [
    "from sklearn.impute import SimpleImputer\n",
    "# Replace missing values with median\n",
    "imputer = SimpleImputer(missing_values=999, strategy=\"median\")\n",
    "imputer.set_output(transform=\"pandas\")\n",
    "X = imputer.fit_transform(X)"
   ]
  },
  {
   "cell_type": "code",
   "execution_count": 108,
   "id": "444a9a0d-3c9b-4026-995c-702a9d226a8b",
   "metadata": {},
   "outputs": [],
   "source": [
    "import pickle\n",
    "\n",
    "columns = X.columns\n",
    "\n",
    "with open(\"medians.pkl\", \"rb\") as f:\n",
    "    medians = pickle.load(f)\n",
    "\n",
    "def replace_outliers(df):\n",
    "    columns = df.columns\n",
    "    for column in columns:\n",
    "        Q1 = df[column].quantile(0.25) \n",
    "        Q3 = df[column].quantile(0.75)  \n",
    "        IQR = Q3 - Q1                  \n",
    "        lower_bound = Q1 - 1.5 * IQR   \n",
    "        upper_bound = Q3 + 1.5 * IQR   \n",
    "        median = medians[column]\n",
    "        df[column] = df[column].apply(lambda x: median if x < lower_bound or x > upper_bound else x)\n",
    "        \n",
    "replace_outliers(X)"
   ]
  },
  {
   "cell_type": "code",
   "execution_count": 109,
   "id": "fc1c36d2-5a96-401e-85a5-9a1a640a8927",
   "metadata": {},
   "outputs": [],
   "source": [
    "# Scale features\n",
    "from sklearn.preprocessing import StandardScaler\n",
    "\n",
    "scaler = StandardScaler()\n",
    "scaler.set_output(transform=\"pandas\")\n",
    "Xs = scaler.fit_transform(X)"
   ]
  },
  {
   "cell_type": "code",
   "execution_count": 110,
   "id": "d181dcdb-4902-4f9d-9a50-c7b9f02a3cfe",
   "metadata": {},
   "outputs": [],
   "source": [
    "from sklearn.decomposition import PCA\n",
    "\n",
    "'''\n",
    "with open(\"pca_classification.pkl\", \"rb\") as f:\n",
    "    pca = pickle.load(f)\n",
    "\n",
    "Xs_important = Xs[[\"ER\",\"HER2\",\"Gene\"]]\n",
    "Xs = Xs.drop(columns=[\"ER\",\"HER2\",\"Gene\"])\n",
    "\n",
    "Xs = pca.transform(Xs)\n",
    "\n",
    "Xs = Xs_important.join(Xs)\n",
    "'''\n",
    "\n",
    "# Load model\n",
    "\n",
    "with open(\"model_classification.pkl\", \"rb\") as f:\n",
    "    model = pickle.load(f)\n",
    "\n",
    "predicted_y = model.predict(Xs)"
   ]
  },
  {
   "cell_type": "code",
   "execution_count": 111,
   "id": "1ffd668a-04d0-412f-8855-fddd2a2c0472",
   "metadata": {},
   "outputs": [],
   "source": [
    "actual_y = pd.read_excel(\"test_y.xlsx\", index_col=False)\n",
    "actual_y = actual_y[\"pCR (outcome)\"]"
   ]
  },
  {
   "cell_type": "code",
   "execution_count": 112,
   "id": "4cbc11de-3008-40e3-abe5-322565a8641a",
   "metadata": {
    "scrolled": true
   },
   "outputs": [
    {
     "data": {
      "text/plain": [
       "<sklearn.metrics._plot.confusion_matrix.ConfusionMatrixDisplay at 0x1db528e7460>"
      ]
     },
     "execution_count": 112,
     "metadata": {},
     "output_type": "execute_result"
    },
    {
     "data": {
      "image/png": "[encoded data removed]",
      "text/plain": [
       "<Figure size 640x480 with 2 Axes>"
      ]
     },
     "metadata": {},
     "output_type": "display_data"
    }
   ],
   "source": [
    "from sklearn.metrics import confusion_matrix, ConfusionMatrixDisplay\n",
    "\n",
    "cm = confusion_matrix(actual_y,predicted_y)\n",
    "disp = ConfusionMatrixDisplay(cm)\n",
    "disp.plot(cmap=plt.cm.Blues)"
   ]
  },
  {
   "cell_type": "code",
   "execution_count": 115,
   "id": "90fde81a-9151-43c2-801d-a769bafdf3bf",
   "metadata": {},
   "outputs": [
    {
     "name": "stdout",
     "output_type": "stream",
     "text": [
      "0.6679316888045541\n"
     ]
    }
   ],
   "source": [
    "from sklearn.metrics import balanced_accuracy_score\n",
    "\n",
    "print(balanced_accuracy_score(actual_y, predicted_y))"
   ]
  },
  {
   "cell_type": "code",
   "execution_count": 113,
   "id": "b44cf403-03b9-42c1-8138-9f0415e6ee5c",
   "metadata": {},
   "outputs": [],
   "source": [
    "predicted_y = pd.DataFrame(predicted_y)\n",
    "\n",
    "output_df = ids.to_frame().join(predicted_y)\n",
    "output_df.to_csv(\"PCRPrediction.csv\",index=False,header=False)"
   ]
  }
 ],
 "metadata": {
  "kernelspec": {
   "display_name": "Python 3 (ipykernel)",
   "language": "python",
   "name": "python3"
  },
  "language_info": {
   "codemirror_mode": {
    "name": "ipython",
    "version": 3
   },
   "file_extension": ".py",
   "mimetype": "text/x-python",
   "name": "python",
   "nbconvert_exporter": "python",
   "pygments_lexer": "ipython3",
   "version": "3.10.15"
  }
 },
 "nbformat": 4,
 "nbformat_minor": 5
}
